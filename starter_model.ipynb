{
  "cells": [
    {
      "cell_type": "markdown",
      "metadata": {
        "id": "i3KsphWPVc6b"
      },
      "source": [
        "Import some library code\n",
        "\n",
        "\n",
        "*   `tensorflow` is the machine learning library we're using\n",
        "*   `os` helps us interact with files and folders\n",
        "*   `matplotlib` is for displaying charts and images\n",
        "*   `numpy` helps us work with data to prepare it for `tensorflow` and review it afterwards\n"
      ]
    },
    {
      "cell_type": "code",
      "execution_count": 202,
      "metadata": {
        "id": "0m4C75UZUYHZ"
      },
      "outputs": [],
      "source": [
        "import tensorflow as tf\n",
        "import os\n",
        "import matplotlib.pyplot as plt\n",
        "import numpy as np\n",
        "import validators\n",
        "import shutil\n",
        "\n",
        "# print(tf.__version__)\n",
        "# physical_devices = tf.config.list_physical_devices('GPU')\n",
        "# tf.print(physical_devices)"
      ]
    },
    {
      "cell_type": "markdown",
      "metadata": {
        "id": "3DbrXhkzVWgj"
      },
      "source": [
        "This code gets the data you will use to train your model: pictures of cats and dogs.\n"
      ]
    },
    {
      "cell_type": "code",
      "execution_count": 203,
      "metadata": {
        "id": "OMFIwvTjUpeV"
      },
      "outputs": [],
      "source": [
        "import tensorflow_datasets as tfds\n",
        "\n",
        "(raw_training, raw_validation, raw_testing), metadata = tfds.load( \n",
        "    name=tfds.image_classification.CatsVsDogs.name, \n",
        "    split=['train[:80%]', 'train[80%:90%]', 'train[90%:]'], \n",
        "    with_info=True, \n",
        "    as_supervised=True)"
      ]
    },
    {
      "cell_type": "markdown",
      "metadata": {
        "id": "rQ2EH08Tx6Ev"
      },
      "source": [
        "\n",
        "This function takes an image and a label as inputs. The image is then converted into three sets of numbers representing the colours red, green, and blue for every pixel in the image. The combination of these colours can form any other colour. The red, green, and blue values are then converted from numbers between 0 and 255, to numbers between -1 and 1, as the model has been trained to work with values in that range. Finally, the image is resized based on the `IMAGE_SIZE` constant, to match the size the model was previously trained on. In this case, it's a 160 by 160 pixel square.\n"
      ]
    },
    {
      "cell_type": "code",
      "execution_count": 204,
      "metadata": {
        "id": "mQ2XEMTtaDPG"
      },
      "outputs": [
        {
          "name": "stdout",
          "output_type": "stream",
          "text": [
            "Label: Tensor(\"args_1:0\", shape=(), dtype=int64)\n",
            "Label: Tensor(\"args_1:0\", shape=(), dtype=int64)\n",
            "Label: Tensor(\"args_1:0\", shape=(), dtype=int64)\n"
          ]
        },
        {
          "data": {
            "text/plain": [
              "<MapDataset element_spec=TensorSpec(shape=<unknown>, dtype=tf.int32, name=None)>"
            ]
          },
          "execution_count": 204,
          "metadata": {},
          "output_type": "execute_result"
        }
      ],
      "source": [
        "IMAGE_SIZE = 160\n",
        "\n",
        "training_data = None\n",
        "\n",
        "# Resize an image, and convert it into a form that tensorflow can read more easily \n",
        "def prep_image(image, label):\n",
        "  image = tf.cast(image, tf.float32)\n",
        "  image = (image/127.5) - 1\n",
        "  image = tf.image.resize(image, (IMAGE_SIZE, IMAGE_SIZE))\n",
        "  print(\"Label: \" + str(label))\n",
        "  return image, label\n",
        "\n",
        "training_data = raw_training.map(prep_image)\n",
        "validation_data = raw_validation.map(prep_image)\n",
        "testing_data = raw_testing.map(prep_image)\n",
        "\n",
        "validation_data.map(print)"
      ]
    },
    {
      "cell_type": "markdown",
      "metadata": {
        "id": "pFqlVlN6CYNo"
      },
      "source": [
        "These are versions of the functions from the previous project, so you can use them to test your model."
      ]
    },
    {
      "cell_type": "code",
      "execution_count": 205,
      "metadata": {
        "id": "HwfYVi6GCVtd"
      },
      "outputs": [],
      "source": [
        "def get_image_from_url(image_uri):\n",
        "  # Modify path as appropiate!\n",
        "  test_image = '/Users/michaelmcdowell/.keras/datasets/test_image.jpg'\n",
        "  \n",
        "  # If the temporary test_image.jpg file already exists, \n",
        "  # delete it so a new one can be made.\n",
        "  if os.path.exists(test_image):\n",
        "    os.remove(test_image)\n",
        "\n",
        "  if validators.url(image_uri):\n",
        "    image_path = tf.keras.utils.get_file('test_image.jpg', origin=image_uri)\n",
        "  else:\n",
        "    image_path = shutil.copyfile(image_uri, test_image)\n",
        "\n",
        "  return image_path\n",
        "\n",
        "def print_predictions(predictions):\n",
        "    for (prediction, number) in zip(predictions[0], range(1, len(predictions[0])+1)):\n",
        "      print('{}. {} {:.2f}%'.format(number, prediction[1], prediction[2]*100))\n",
        "\n",
        "def show_image(image):\n",
        "  plt.figure()\n",
        "  plt.imshow(image)\n",
        "\n",
        "def predict_image(image_url):\n",
        "  image_path = get_image_from_url(image_url)\n",
        "  \n",
        "  image = tf.keras.preprocessing.image.load_img(image_path, target_size=(IMAGE_SIZE, IMAGE_SIZE))\n",
        "\n",
        "  image_arr = tf.keras.preprocessing.image.img_to_array(image)\n",
        "  image_vector = np.expand_dims(image_arr, axis=0)\n",
        "  \n",
        "  prediction_result = history.model.predict(image_vector, batch_size=1)\n",
        "  labels = metadata.features['label'].names\n",
        "  print(labels[prediction_result.argmin()])\n",
        "\n",
        "  return image"
      ]
    },
    {
      "cell_type": "markdown",
      "metadata": {
        "id": "E-wCiqLKvJVF"
      },
      "source": [
        "Import and test the MobileNetV2 model that you will retrain. (Issues **str not in decode fixed** _conda install 'h5py==2.10.0'_)"
      ]
    },
    {
      "cell_type": "code",
      "execution_count": 206,
      "metadata": {
        "id": "nXn-yycIZ_Vf"
      },
      "outputs": [],
      "source": [
        "IMAGE_SHAPE = (IMAGE_SIZE, IMAGE_SIZE, 3)\n",
        "original_model = tf.keras.applications.MobileNetV2(input_shape=IMAGE_SHAPE, include_top=False)\n",
        "original_model.trainable = False"
      ]
    },
    {
      "cell_type": "markdown",
      "metadata": {
        "id": "stKhRFDlvKE2"
      },
      "source": [
        "In the cell below, split your images into training, validation, and testing data."
      ]
    },
    {
      "cell_type": "code",
      "execution_count": 207,
      "metadata": {
        "id": "7zI-5FKrdFSA"
      },
      "outputs": [],
      "source": [
        "BATCH_SIZE = 32\n",
        "SHUFFLE_BUFFER_SIZE = 1000\n",
        "\n",
        "training_batches = training_data.shuffle(SHUFFLE_BUFFER_SIZE).batch(BATCH_SIZE)\n",
        "validation_batches = validation_data.shuffle(SHUFFLE_BUFFER_SIZE).batch(BATCH_SIZE)\n",
        "testing_batches = testing_data.shuffle(SHUFFLE_BUFFER_SIZE).batch(BATCH_SIZE)"
      ]
    },
    {
      "cell_type": "markdown",
      "metadata": {
        "id": "AAXeCK0xvKcI"
      },
      "source": [
        "Add the new layers to the model, to allow it to be retrained."
      ]
    },
    {
      "cell_type": "code",
      "execution_count": 208,
      "metadata": {
        "id": "IEdPUXxbpmHw"
      },
      "outputs": [
        {
          "name": "stdout",
          "output_type": "stream",
          "text": [
            "Model: \"sequential_17\"\n",
            "_________________________________________________________________\n",
            " Layer (type)                Output Shape              Param #   \n",
            "=================================================================\n",
            " mobilenetv2_1.00_160 (Funct  (None, 5, 5, 1280)       2257984   \n",
            " ional)                                                          \n",
            "                                                                 \n",
            " global_average_pooling2d_22  (None, 1280)             0         \n",
            "  (GlobalAveragePooling2D)                                       \n",
            "                                                                 \n",
            " dense_17 (Dense)            (None, 2)                 2562      \n",
            "                                                                 \n",
            "=================================================================\n",
            "Total params: 2,260,546\n",
            "Trainable params: 2,562\n",
            "Non-trainable params: 2,257,984\n",
            "_________________________________________________________________\n"
          ]
        }
      ],
      "source": [
        "global_average_layer = tf.keras.layers.GlobalAveragePooling2D()\n",
        "prediction_layer = tf.keras.layers.Dense(2)\n",
        "\n",
        "model = tf.keras.Sequential([\n",
        "  original_model,\n",
        "  global_average_layer,\n",
        "  prediction_layer\n",
        "])\n",
        "\n",
        "BASE_LEARNING_RATE = 0.001\n",
        "model.compile(optimizer=tf.keras.optimizers.RMSprop(learning_rate=BASE_LEARNING_RATE),\n",
        "              loss=tf.keras.losses.SparseCategoricalCrossentropy(),\n",
        "              metrics=['accuracy'])\n",
        "\n",
        "model.summary()"
      ]
    },
    {
      "cell_type": "markdown",
      "metadata": {
        "id": "tJGfwMeCvK19"
      },
      "source": [
        "Set up your training epochs and train the new layers of the model."
      ]
    },
    {
      "cell_type": "code",
      "execution_count": 209,
      "metadata": {
        "id": "_yIVNQ0xu3FA"
      },
      "outputs": [
        {
          "name": "stdout",
          "output_type": "stream",
          "text": [
            "Epoch 1/10\n"
          ]
        },
        {
          "name": "stderr",
          "output_type": "stream",
          "text": [
            "2022-04-01 16:52:41.508474: I tensorflow/core/grappler/optimizers/custom_graph_optimizer_registry.cc:113] Plugin optimizer for device_type GPU is enabled.\n"
          ]
        },
        {
          "name": "stdout",
          "output_type": "stream",
          "text": [
            "168/582 [=======>......................] - ETA: 17s - loss: 0.7594 - accuracy: 0.6845"
          ]
        },
        {
          "name": "stderr",
          "output_type": "stream",
          "text": [
            "Corrupt JPEG data: 99 extraneous bytes before marker 0xd9\n"
          ]
        },
        {
          "name": "stdout",
          "output_type": "stream",
          "text": [
            "202/582 [=========>....................] - ETA: 16s - loss: 0.7479 - accuracy: 0.6912"
          ]
        },
        {
          "name": "stderr",
          "output_type": "stream",
          "text": [
            "Warning: unknown JFIF revision number 0.00\n"
          ]
        },
        {
          "name": "stdout",
          "output_type": "stream",
          "text": [
            "212/582 [=========>....................] - ETA: 15s - loss: 0.7453 - accuracy: 0.6910"
          ]
        },
        {
          "name": "stderr",
          "output_type": "stream",
          "text": [
            "Corrupt JPEG data: 396 extraneous bytes before marker 0xd9\n"
          ]
        },
        {
          "name": "stdout",
          "output_type": "stream",
          "text": [
            "284/582 [=============>................] - ETA: 12s - loss: 0.7248 - accuracy: 0.6769"
          ]
        },
        {
          "name": "stderr",
          "output_type": "stream",
          "text": [
            "Corrupt JPEG data: 65 extraneous bytes before marker 0xd9\n"
          ]
        },
        {
          "name": "stdout",
          "output_type": "stream",
          "text": [
            "492/582 [========================>.....] - ETA: 3s - loss: 0.6908 - accuracy: 0.6908"
          ]
        },
        {
          "name": "stderr",
          "output_type": "stream",
          "text": [
            "Corrupt JPEG data: 2226 extraneous bytes before marker 0xd9\n"
          ]
        },
        {
          "name": "stdout",
          "output_type": "stream",
          "text": [
            "506/582 [=========================>....] - ETA: 3s - loss: 0.6893 - accuracy: 0.6932"
          ]
        },
        {
          "name": "stderr",
          "output_type": "stream",
          "text": [
            "Corrupt JPEG data: 128 extraneous bytes before marker 0xd9\n"
          ]
        },
        {
          "name": "stdout",
          "output_type": "stream",
          "text": [
            "516/582 [=========================>....] - ETA: 2s - loss: 0.6882 - accuracy: 0.6944"
          ]
        },
        {
          "name": "stderr",
          "output_type": "stream",
          "text": [
            "Corrupt JPEG data: 239 extraneous bytes before marker 0xd9\n"
          ]
        },
        {
          "name": "stdout",
          "output_type": "stream",
          "text": [
            "542/582 [==========================>...] - ETA: 1s - loss: 0.6828 - accuracy: 0.6944"
          ]
        },
        {
          "name": "stderr",
          "output_type": "stream",
          "text": [
            "Corrupt JPEG data: 1153 extraneous bytes before marker 0xd9\n"
          ]
        },
        {
          "name": "stdout",
          "output_type": "stream",
          "text": [
            "550/582 [===========================>..] - ETA: 1s - loss: 0.6821 - accuracy: 0.6943"
          ]
        },
        {
          "name": "stderr",
          "output_type": "stream",
          "text": [
            "Corrupt JPEG data: 228 extraneous bytes before marker 0xd9\n"
          ]
        },
        {
          "name": "stdout",
          "output_type": "stream",
          "text": [
            "582/582 [==============================] - ETA: 0s - loss: 0.6780 - accuracy: 0.6986"
          ]
        },
        {
          "name": "stderr",
          "output_type": "stream",
          "text": [
            "2022-04-01 16:53:07.549068: I tensorflow/core/grappler/optimizers/custom_graph_optimizer_registry.cc:113] Plugin optimizer for device_type GPU is enabled.\n",
            "Corrupt JPEG data: 162 extraneous bytes before marker 0xd9\n",
            "Corrupt JPEG data: 252 extraneous bytes before marker 0xd9\n",
            "Corrupt JPEG data: 214 extraneous bytes before marker 0xd9\n"
          ]
        },
        {
          "name": "stdout",
          "output_type": "stream",
          "text": [
            "582/582 [==============================] - 33s 51ms/step - loss: 0.6780 - accuracy: 0.6986 - val_loss: 0.6049 - val_accuracy: 0.7846\n",
            "Epoch 2/10\n",
            "169/582 [=======>......................] - ETA: 16s - loss: 0.5505 - accuracy: 0.7324"
          ]
        },
        {
          "name": "stderr",
          "output_type": "stream",
          "text": [
            "Corrupt JPEG data: 99 extraneous bytes before marker 0xd9\n"
          ]
        },
        {
          "name": "stdout",
          "output_type": "stream",
          "text": [
            "201/582 [=========>....................] - ETA: 14s - loss: 0.5500 - accuracy: 0.7393"
          ]
        },
        {
          "name": "stderr",
          "output_type": "stream",
          "text": [
            "Warning: unknown JFIF revision number 0.00\n"
          ]
        },
        {
          "name": "stdout",
          "output_type": "stream",
          "text": [
            "213/582 [=========>....................] - ETA: 14s - loss: 0.5501 - accuracy: 0.7396"
          ]
        },
        {
          "name": "stderr",
          "output_type": "stream",
          "text": [
            "Corrupt JPEG data: 396 extraneous bytes before marker 0xd9\n"
          ]
        },
        {
          "name": "stdout",
          "output_type": "stream",
          "text": [
            "285/582 [=============>................] - ETA: 11s - loss: 0.5385 - accuracy: 0.7374"
          ]
        },
        {
          "name": "stderr",
          "output_type": "stream",
          "text": [
            "Corrupt JPEG data: 65 extraneous bytes before marker 0xd9\n"
          ]
        },
        {
          "name": "stdout",
          "output_type": "stream",
          "text": [
            "492/582 [========================>.....] - ETA: 2:55 - loss: 0.5331 - accuracy: 0.7762"
          ]
        },
        {
          "name": "stderr",
          "output_type": "stream",
          "text": [
            "Corrupt JPEG data: 2226 extraneous bytes before marker 0xd9\n"
          ]
        },
        {
          "name": "stdout",
          "output_type": "stream",
          "text": [
            "506/582 [=========================>....] - ETA: 2:24 - loss: 0.5344 - accuracy: 0.7801"
          ]
        },
        {
          "name": "stderr",
          "output_type": "stream",
          "text": [
            "Corrupt JPEG data: 128 extraneous bytes before marker 0xd9\n"
          ]
        },
        {
          "name": "stdout",
          "output_type": "stream",
          "text": [
            "516/582 [=========================>....] - ETA: 2:02 - loss: 0.5351 - accuracy: 0.7831"
          ]
        },
        {
          "name": "stderr",
          "output_type": "stream",
          "text": [
            "Corrupt JPEG data: 239 extraneous bytes before marker 0xd9\n"
          ]
        },
        {
          "name": "stdout",
          "output_type": "stream",
          "text": [
            "543/582 [==========================>...] - ETA: 2:22 - loss: 0.5356 - accuracy: 0.7901"
          ]
        },
        {
          "name": "stderr",
          "output_type": "stream",
          "text": [
            "Corrupt JPEG data: 1153 extraneous bytes before marker 0xd9\n"
          ]
        },
        {
          "name": "stdout",
          "output_type": "stream",
          "text": [
            "549/582 [===========================>..] - ETA: 1:59 - loss: 0.5354 - accuracy: 0.7915"
          ]
        },
        {
          "name": "stderr",
          "output_type": "stream",
          "text": [
            "Corrupt JPEG data: 228 extraneous bytes before marker 0xd9\n"
          ]
        },
        {
          "name": "stdout",
          "output_type": "stream",
          "text": [
            "582/582 [==============================] - ETA: 0s - loss: 0.5335 - accuracy: 0.7933"
          ]
        },
        {
          "name": "stderr",
          "output_type": "stream",
          "text": [
            "Corrupt JPEG data: 162 extraneous bytes before marker 0xd9\n",
            "Corrupt JPEG data: 252 extraneous bytes before marker 0xd9\n",
            "Corrupt JPEG data: 214 extraneous bytes before marker 0xd9\n"
          ]
        },
        {
          "name": "stdout",
          "output_type": "stream",
          "text": [
            "582/582 [==============================] - 1985s 3s/step - loss: 0.5335 - accuracy: 0.7933 - val_loss: 0.4914 - val_accuracy: 0.8766\n",
            "Epoch 3/10\n",
            "170/582 [=======>......................] - ETA: 1:17:12 - loss: 0.5475 - accuracy: 0.9129"
          ]
        },
        {
          "name": "stderr",
          "output_type": "stream",
          "text": [
            "Corrupt JPEG data: 99 extraneous bytes before marker 0xd9\n"
          ]
        },
        {
          "name": "stdout",
          "output_type": "stream",
          "text": [
            "202/582 [=========>....................] - ETA: 59:54 - loss: 0.5425 - accuracy: 0.9109  "
          ]
        },
        {
          "name": "stderr",
          "output_type": "stream",
          "text": [
            "Warning: unknown JFIF revision number 0.00\n"
          ]
        },
        {
          "name": "stdout",
          "output_type": "stream",
          "text": [
            "213/582 [=========>....................] - ETA: 55:10 - loss: 0.5402 - accuracy: 0.9095"
          ]
        },
        {
          "name": "stderr",
          "output_type": "stream",
          "text": [
            "Corrupt JPEG data: 396 extraneous bytes before marker 0xd9\n"
          ]
        },
        {
          "name": "stdout",
          "output_type": "stream",
          "text": [
            "283/582 [=============>................] - ETA: 33:39 - loss: 0.5353 - accuracy: 0.9087"
          ]
        },
        {
          "name": "stderr",
          "output_type": "stream",
          "text": [
            "Corrupt JPEG data: 65 extraneous bytes before marker 0xd9\n"
          ]
        },
        {
          "name": "stdout",
          "output_type": "stream",
          "text": [
            "492/582 [========================>.....] - ETA: 12:02 - loss: 0.5181 - accuracy: 0.9020"
          ]
        },
        {
          "name": "stderr",
          "output_type": "stream",
          "text": [
            "Corrupt JPEG data: 2226 extraneous bytes before marker 0xd9\n"
          ]
        },
        {
          "name": "stdout",
          "output_type": "stream",
          "text": [
            "506/582 [=========================>....] - ETA: 9:53 - loss: 0.5187 - accuracy: 0.9025 "
          ]
        },
        {
          "name": "stderr",
          "output_type": "stream",
          "text": [
            "Corrupt JPEG data: 128 extraneous bytes before marker 0xd9\n"
          ]
        },
        {
          "name": "stdout",
          "output_type": "stream",
          "text": [
            "516/582 [=========================>....] - ETA: 8:25 - loss: 0.5193 - accuracy: 0.9033"
          ]
        },
        {
          "name": "stderr",
          "output_type": "stream",
          "text": [
            "Corrupt JPEG data: 239 extraneous bytes before marker 0xd9\n"
          ]
        },
        {
          "name": "stdout",
          "output_type": "stream",
          "text": [
            "542/582 [==========================>...] - ETA: 4:51 - loss: 0.5197 - accuracy: 0.9056"
          ]
        },
        {
          "name": "stderr",
          "output_type": "stream",
          "text": [
            "Corrupt JPEG data: 1153 extraneous bytes before marker 0xd9\n"
          ]
        },
        {
          "name": "stdout",
          "output_type": "stream",
          "text": [
            "550/582 [===========================>..] - ETA: 3:49 - loss: 0.5198 - accuracy: 0.9062"
          ]
        },
        {
          "name": "stderr",
          "output_type": "stream",
          "text": [
            "Corrupt JPEG data: 228 extraneous bytes before marker 0xd9\n"
          ]
        },
        {
          "name": "stdout",
          "output_type": "stream",
          "text": [
            "582/582 [==============================] - ETA: 0s - loss: 0.5207 - accuracy: 0.9092 "
          ]
        },
        {
          "name": "stderr",
          "output_type": "stream",
          "text": [
            "Corrupt JPEG data: 162 extraneous bytes before marker 0xd9\n",
            "2022-04-01 18:47:04.365251: I tensorflow/core/kernels/data/shuffle_dataset_op.cc:390] Filling up shuffle buffer (this may take a while): 357 of 1000\n",
            "2022-04-01 18:47:04.366741: I tensorflow/core/kernels/data/shuffle_dataset_op.cc:390] Filling up shuffle buffer (this may take a while): 358 of 1000\n",
            "2022-04-01 18:47:04.366783: I tensorflow/core/kernels/data/shuffle_dataset_op.cc:390] Filling up shuffle buffer (this may take a while): 359 of 1000\n",
            "2022-04-01 18:47:04.367488: I tensorflow/core/kernels/data/shuffle_dataset_op.cc:390] Filling up shuffle buffer (this may take a while): 360 of 1000\n",
            "2022-04-01 18:47:04.367508: I tensorflow/core/kernels/data/shuffle_dataset_op.cc:390] Filling up shuffle buffer (this may take a while): 361 of 1000\n",
            "2022-04-01 18:47:04.368423: I tensorflow/core/kernels/data/shuffle_dataset_op.cc:390] Filling up shuffle buffer (this may take a while): 362 of 1000\n",
            "2022-04-01 18:47:04.368440: I tensorflow/core/kernels/data/shuffle_dataset_op.cc:390] Filling up shuffle buffer (this may take a while): 363 of 1000\n",
            "2022-04-01 18:47:04.369632: I tensorflow/core/kernels/data/shuffle_dataset_op.cc:390] Filling up shuffle buffer (this may take a while): 364 of 1000\n",
            "2022-04-01 18:47:04.369651: I tensorflow/core/kernels/data/shuffle_dataset_op.cc:390] Filling up shuffle buffer (this may take a while): 365 of 1000\n",
            "2022-04-01 18:47:04.369936: I tensorflow/core/kernels/data/shuffle_dataset_op.cc:390] Filling up shuffle buffer (this may take a while): 366 of 1000\n",
            "2022-04-01 18:47:04.369951: I tensorflow/core/kernels/data/shuffle_dataset_op.cc:390] Filling up shuffle buffer (this may take a while): 367 of 1000\n",
            "2022-04-01 18:47:04.370237: I tensorflow/core/kernels/data/shuffle_dataset_op.cc:390] Filling up shuffle buffer (this may take a while): 368 of 1000\n",
            "2022-04-01 18:47:04.541416: I tensorflow/core/kernels/data/shuffle_dataset_op.cc:390] Filling up shuffle buffer (this may take a while): 369 of 1000\n",
            "2022-04-01 18:47:04.541451: I tensorflow/core/kernels/data/shuffle_dataset_op.cc:390] Filling up shuffle buffer (this may take a while): 370 of 1000\n",
            "2022-04-01 18:47:04.541458: I tensorflow/core/kernels/data/shuffle_dataset_op.cc:390] Filling up shuffle buffer (this may take a while): 371 of 1000\n",
            "2022-04-01 18:47:04.541462: I tensorflow/core/kernels/data/shuffle_dataset_op.cc:390] Filling up shuffle buffer (this may take a while): 372 of 1000\n",
            "2022-04-01 18:47:04.542402: I tensorflow/core/kernels/data/shuffle_dataset_op.cc:390] Filling up shuffle buffer (this may take a while): 373 of 1000\n",
            "2022-04-01 18:47:04.542424: I tensorflow/core/kernels/data/shuffle_dataset_op.cc:390] Filling up shuffle buffer (this may take a while): 374 of 1000\n",
            "2022-04-01 18:47:04.542429: I tensorflow/core/kernels/data/shuffle_dataset_op.cc:390] Filling up shuffle buffer (this may take a while): 375 of 1000\n",
            "2022-04-01 18:47:04.542434: I tensorflow/core/kernels/data/shuffle_dataset_op.cc:390] Filling up shuffle buffer (this may take a while): 376 of 1000\n",
            "2022-04-01 18:47:04.544040: I tensorflow/core/kernels/data/shuffle_dataset_op.cc:390] Filling up shuffle buffer (this may take a while): 377 of 1000\n",
            "2022-04-01 18:47:04.544063: I tensorflow/core/kernels/data/shuffle_dataset_op.cc:390] Filling up shuffle buffer (this may take a while): 378 of 1000\n",
            "2022-04-01 18:47:04.544068: I tensorflow/core/kernels/data/shuffle_dataset_op.cc:390] Filling up shuffle buffer (this may take a while): 379 of 1000\n",
            "2022-04-01 18:47:04.544073: I tensorflow/core/kernels/data/shuffle_dataset_op.cc:390] Filling up shuffle buffer (this may take a while): 380 of 1000\n",
            "2022-04-01 18:47:04.545075: I tensorflow/core/kernels/data/shuffle_dataset_op.cc:390] Filling up shuffle buffer (this may take a while): 381 of 1000\n",
            "2022-04-01 18:47:04.546042: I tensorflow/core/kernels/data/shuffle_dataset_op.cc:390] Filling up shuffle buffer (this may take a while): 382 of 1000\n",
            "2022-04-01 18:47:04.546056: I tensorflow/core/kernels/data/shuffle_dataset_op.cc:390] Filling up shuffle buffer (this may take a while): 383 of 1000\n",
            "2022-04-01 18:47:04.546061: I tensorflow/core/kernels/data/shuffle_dataset_op.cc:390] Filling up shuffle buffer (this may take a while): 384 of 1000\n",
            "2022-04-01 18:47:04.546066: I tensorflow/core/kernels/data/shuffle_dataset_op.cc:390] Filling up shuffle buffer (this may take a while): 385 of 1000\n",
            "2022-04-01 18:47:04.547177: I tensorflow/core/kernels/data/shuffle_dataset_op.cc:390] Filling up shuffle buffer (this may take a while): 386 of 1000\n",
            "2022-04-01 18:47:04.547202: I tensorflow/core/kernels/data/shuffle_dataset_op.cc:390] Filling up shuffle buffer (this may take a while): 387 of 1000\n",
            "2022-04-01 18:47:04.547208: I tensorflow/core/kernels/data/shuffle_dataset_op.cc:390] Filling up shuffle buffer (this may take a while): 388 of 1000\n",
            "2022-04-01 18:47:04.547213: I tensorflow/core/kernels/data/shuffle_dataset_op.cc:390] Filling up shuffle buffer (this may take a while): 389 of 1000\n",
            "2022-04-01 18:47:04.547644: I tensorflow/core/kernels/data/shuffle_dataset_op.cc:390] Filling up shuffle buffer (this may take a while): 390 of 1000\n",
            "2022-04-01 18:47:04.548740: I tensorflow/core/kernels/data/shuffle_dataset_op.cc:390] Filling up shuffle buffer (this may take a while): 391 of 1000\n",
            "2022-04-01 18:47:04.548752: I tensorflow/core/kernels/data/shuffle_dataset_op.cc:390] Filling up shuffle buffer (this may take a while): 392 of 1000\n",
            "2022-04-01 18:47:04.550147: I tensorflow/core/kernels/data/shuffle_dataset_op.cc:390] Filling up shuffle buffer (this may take a while): 393 of 1000\n",
            "2022-04-01 18:47:04.550166: I tensorflow/core/kernels/data/shuffle_dataset_op.cc:390] Filling up shuffle buffer (this may take a while): 394 of 1000\n",
            "2022-04-01 18:47:04.550171: I tensorflow/core/kernels/data/shuffle_dataset_op.cc:390] Filling up shuffle buffer (this may take a while): 395 of 1000\n",
            "2022-04-01 18:47:04.550463: I tensorflow/core/kernels/data/shuffle_dataset_op.cc:390] Filling up shuffle buffer (this may take a while): 396 of 1000\n",
            "2022-04-01 18:47:04.551116: I tensorflow/core/kernels/data/shuffle_dataset_op.cc:390] Filling up shuffle buffer (this may take a while): 397 of 1000\n",
            "2022-04-01 18:47:04.551620: I tensorflow/core/kernels/data/shuffle_dataset_op.cc:390] Filling up shuffle buffer (this may take a while): 398 of 1000\n",
            "2022-04-01 18:47:04.551989: I tensorflow/core/kernels/data/shuffle_dataset_op.cc:390] Filling up shuffle buffer (this may take a while): 399 of 1000\n",
            "2022-04-01 18:47:04.552078: I tensorflow/core/kernels/data/shuffle_dataset_op.cc:390] Filling up shuffle buffer (this may take a while): 400 of 1000\n",
            "2022-04-01 18:47:04.552638: I tensorflow/core/kernels/data/shuffle_dataset_op.cc:390] Filling up shuffle buffer (this may take a while): 401 of 1000\n",
            "2022-04-01 18:47:04.552646: I tensorflow/core/kernels/data/shuffle_dataset_op.cc:390] Filling up shuffle buffer (this may take a while): 402 of 1000\n",
            "2022-04-01 18:47:04.553158: I tensorflow/core/kernels/data/shuffle_dataset_op.cc:390] Filling up shuffle buffer (this may take a while): 403 of 1000\n",
            "2022-04-01 18:47:04.553167: I tensorflow/core/kernels/data/shuffle_dataset_op.cc:390] Filling up shuffle buffer (this may take a while): 404 of 1000\n",
            "2022-04-01 18:47:04.555443: I tensorflow/core/kernels/data/shuffle_dataset_op.cc:390] Filling up shuffle buffer (this may take a while): 405 of 1000\n",
            "2022-04-01 18:47:04.555461: I tensorflow/core/kernels/data/shuffle_dataset_op.cc:390] Filling up shuffle buffer (this may take a while): 406 of 1000\n",
            "2022-04-01 18:47:04.555465: I tensorflow/core/kernels/data/shuffle_dataset_op.cc:390] Filling up shuffle buffer (this may take a while): 407 of 1000\n",
            "2022-04-01 18:47:04.555468: I tensorflow/core/kernels/data/shuffle_dataset_op.cc:390] Filling up shuffle buffer (this may take a while): 408 of 1000\n",
            "2022-04-01 18:47:04.556231: I tensorflow/core/kernels/data/shuffle_dataset_op.cc:390] Filling up shuffle buffer (this may take a while): 409 of 1000\n",
            "2022-04-01 18:47:04.556244: I tensorflow/core/kernels/data/shuffle_dataset_op.cc:390] Filling up shuffle buffer (this may take a while): 410 of 1000\n",
            "2022-04-01 18:47:04.557378: I tensorflow/core/kernels/data/shuffle_dataset_op.cc:390] Filling up shuffle buffer (this may take a while): 411 of 1000\n",
            "2022-04-01 18:47:04.557390: I tensorflow/core/kernels/data/shuffle_dataset_op.cc:390] Filling up shuffle buffer (this may take a while): 412 of 1000\n",
            "2022-04-01 18:47:04.557395: I tensorflow/core/kernels/data/shuffle_dataset_op.cc:390] Filling up shuffle buffer (this may take a while): 413 of 1000\n",
            "2022-04-01 18:47:04.558179: I tensorflow/core/kernels/data/shuffle_dataset_op.cc:390] Filling up shuffle buffer (this may take a while): 414 of 1000\n",
            "2022-04-01 18:47:04.558191: I tensorflow/core/kernels/data/shuffle_dataset_op.cc:390] Filling up shuffle buffer (this may take a while): 415 of 1000\n",
            "2022-04-01 18:47:04.559645: I tensorflow/core/kernels/data/shuffle_dataset_op.cc:390] Filling up shuffle buffer (this may take a while): 416 of 1000\n",
            "2022-04-01 18:47:04.560625: I tensorflow/core/kernels/data/shuffle_dataset_op.cc:390] Filling up shuffle buffer (this may take a while): 417 of 1000\n",
            "2022-04-01 18:47:04.560634: I tensorflow/core/kernels/data/shuffle_dataset_op.cc:390] Filling up shuffle buffer (this may take a while): 418 of 1000\n",
            "2022-04-01 18:47:04.560638: I tensorflow/core/kernels/data/shuffle_dataset_op.cc:390] Filling up shuffle buffer (this may take a while): 419 of 1000\n",
            "2022-04-01 18:47:04.560949: I tensorflow/core/kernels/data/shuffle_dataset_op.cc:390] Filling up shuffle buffer (this may take a while): 420 of 1000\n",
            "2022-04-01 18:47:04.561547: I tensorflow/core/kernels/data/shuffle_dataset_op.cc:390] Filling up shuffle buffer (this may take a while): 421 of 1000\n",
            "2022-04-01 18:47:04.561832: I tensorflow/core/kernels/data/shuffle_dataset_op.cc:390] Filling up shuffle buffer (this may take a while): 422 of 1000\n",
            "2022-04-01 18:47:04.561842: I tensorflow/core/kernels/data/shuffle_dataset_op.cc:390] Filling up shuffle buffer (this may take a while): 423 of 1000\n",
            "2022-04-01 18:47:04.562868: I tensorflow/core/kernels/data/shuffle_dataset_op.cc:390] Filling up shuffle buffer (this may take a while): 424 of 1000\n",
            "2022-04-01 18:47:04.563660: I tensorflow/core/kernels/data/shuffle_dataset_op.cc:390] Filling up shuffle buffer (this may take a while): 425 of 1000\n",
            "2022-04-01 18:47:04.563668: I tensorflow/core/kernels/data/shuffle_dataset_op.cc:390] Filling up shuffle buffer (this may take a while): 426 of 1000\n",
            "2022-04-01 18:47:04.564144: I tensorflow/core/kernels/data/shuffle_dataset_op.cc:390] Filling up shuffle buffer (this may take a while): 427 of 1000\n",
            "2022-04-01 18:47:04.565003: I tensorflow/core/kernels/data/shuffle_dataset_op.cc:390] Filling up shuffle buffer (this may take a while): 428 of 1000\n",
            "2022-04-01 18:47:04.565320: I tensorflow/core/kernels/data/shuffle_dataset_op.cc:390] Filling up shuffle buffer (this may take a while): 429 of 1000\n",
            "2022-04-01 18:47:04.565326: I tensorflow/core/kernels/data/shuffle_dataset_op.cc:390] Filling up shuffle buffer (this may take a while): 430 of 1000\n",
            "2022-04-01 18:47:04.565634: I tensorflow/core/kernels/data/shuffle_dataset_op.cc:390] Filling up shuffle buffer (this may take a while): 431 of 1000\n",
            "2022-04-01 18:47:04.565642: I tensorflow/core/kernels/data/shuffle_dataset_op.cc:390] Filling up shuffle buffer (this may take a while): 432 of 1000\n",
            "2022-04-01 18:47:04.565708: I tensorflow/core/kernels/data/shuffle_dataset_op.cc:390] Filling up shuffle buffer (this may take a while): 433 of 1000\n",
            "2022-04-01 18:47:04.567624: I tensorflow/core/kernels/data/shuffle_dataset_op.cc:390] Filling up shuffle buffer (this may take a while): 434 of 1000\n",
            "2022-04-01 18:47:04.567633: I tensorflow/core/kernels/data/shuffle_dataset_op.cc:390] Filling up shuffle buffer (this may take a while): 435 of 1000\n",
            "2022-04-01 18:47:04.567637: I tensorflow/core/kernels/data/shuffle_dataset_op.cc:390] Filling up shuffle buffer (this may take a while): 436 of 1000\n",
            "2022-04-01 18:47:04.567640: I tensorflow/core/kernels/data/shuffle_dataset_op.cc:390] Filling up shuffle buffer (this may take a while): 437 of 1000\n",
            "2022-04-01 18:47:04.567824: I tensorflow/core/kernels/data/shuffle_dataset_op.cc:390] Filling up shuffle buffer (this may take a while): 438 of 1000\n",
            "2022-04-01 18:47:04.567834: I tensorflow/core/kernels/data/shuffle_dataset_op.cc:390] Filling up shuffle buffer (this may take a while): 439 of 1000\n",
            "2022-04-01 18:47:04.568909: I tensorflow/core/kernels/data/shuffle_dataset_op.cc:390] Filling up shuffle buffer (this may take a while): 440 of 1000\n",
            "2022-04-01 18:47:04.568917: I tensorflow/core/kernels/data/shuffle_dataset_op.cc:390] Filling up shuffle buffer (this may take a while): 441 of 1000\n",
            "2022-04-01 18:47:04.568920: I tensorflow/core/kernels/data/shuffle_dataset_op.cc:390] Filling up shuffle buffer (this may take a while): 442 of 1000\n",
            "2022-04-01 18:47:04.569080: I tensorflow/core/kernels/data/shuffle_dataset_op.cc:390] Filling up shuffle buffer (this may take a while): 443 of 1000\n",
            "2022-04-01 18:47:04.579353: I tensorflow/core/kernels/data/shuffle_dataset_op.cc:390] Filling up shuffle buffer (this may take a while): 444 of 1000\n",
            "2022-04-01 18:47:04.579368: I tensorflow/core/kernels/data/shuffle_dataset_op.cc:390] Filling up shuffle buffer (this may take a while): 445 of 1000\n",
            "Corrupt JPEG data: 252 extraneous bytes before marker 0xd9\n",
            "2022-04-01 18:47:04.797935: I tensorflow/core/kernels/data/shuffle_dataset_op.cc:415] Shuffle buffer filled.\n",
            "Corrupt JPEG data: 214 extraneous bytes before marker 0xd9\n"
          ]
        },
        {
          "name": "stdout",
          "output_type": "stream",
          "text": [
            "582/582 [==============================] - 4851s 8s/step - loss: 0.5207 - accuracy: 0.9092 - val_loss: 0.5331 - val_accuracy: 0.9475\n",
            "Epoch 4/10\n",
            "170/582 [=======>......................] - ETA: 34:15 - loss: 0.4876 - accuracy: 0.9143"
          ]
        },
        {
          "name": "stderr",
          "output_type": "stream",
          "text": [
            "Corrupt JPEG data: 99 extraneous bytes before marker 0xd9\n"
          ]
        },
        {
          "name": "stdout",
          "output_type": "stream",
          "text": [
            "202/582 [=========>....................] - ETA: 26:36 - loss: 0.4924 - accuracy: 0.9230"
          ]
        },
        {
          "name": "stderr",
          "output_type": "stream",
          "text": [
            "Warning: unknown JFIF revision number 0.00\n"
          ]
        },
        {
          "name": "stdout",
          "output_type": "stream",
          "text": [
            "212/582 [=========>....................] - ETA: 24:41 - loss: 0.4937 - accuracy: 0.9242"
          ]
        },
        {
          "name": "stderr",
          "output_type": "stream",
          "text": [
            "Corrupt JPEG data: 396 extraneous bytes before marker 0xd9\n"
          ]
        },
        {
          "name": "stdout",
          "output_type": "stream",
          "text": [
            "284/582 [=============>................] - ETA: 14:52 - loss: 0.4860 - accuracy: 0.9232"
          ]
        },
        {
          "name": "stderr",
          "output_type": "stream",
          "text": [
            "Corrupt JPEG data: 65 extraneous bytes before marker 0xd9\n"
          ]
        },
        {
          "name": "stdout",
          "output_type": "stream",
          "text": [
            "492/582 [========================>.....] - ETA: 2:36 - loss: 0.4809 - accuracy: 0.9265"
          ]
        },
        {
          "name": "stderr",
          "output_type": "stream",
          "text": [
            "Corrupt JPEG data: 2226 extraneous bytes before marker 0xd9\n"
          ]
        },
        {
          "name": "stdout",
          "output_type": "stream",
          "text": [
            "506/582 [=========================>....] - ETA: 2:08 - loss: 0.4807 - accuracy: 0.9271"
          ]
        },
        {
          "name": "stderr",
          "output_type": "stream",
          "text": [
            "Corrupt JPEG data: 128 extraneous bytes before marker 0xd9\n"
          ]
        },
        {
          "name": "stdout",
          "output_type": "stream",
          "text": [
            "516/582 [=========================>....] - ETA: 1:49 - loss: 0.4805 - accuracy: 0.9268"
          ]
        },
        {
          "name": "stderr",
          "output_type": "stream",
          "text": [
            "Corrupt JPEG data: 239 extraneous bytes before marker 0xd9\n"
          ]
        },
        {
          "name": "stdout",
          "output_type": "stream",
          "text": [
            "542/582 [==========================>...] - ETA: 1:03 - loss: 0.4798 - accuracy: 0.9281"
          ]
        },
        {
          "name": "stderr",
          "output_type": "stream",
          "text": [
            "Corrupt JPEG data: 1153 extraneous bytes before marker 0xd9\n"
          ]
        },
        {
          "name": "stdout",
          "output_type": "stream",
          "text": [
            "550/582 [===========================>..] - ETA: 49s - loss: 0.4793 - accuracy: 0.9281"
          ]
        },
        {
          "name": "stderr",
          "output_type": "stream",
          "text": [
            "Corrupt JPEG data: 228 extraneous bytes before marker 0xd9\n"
          ]
        },
        {
          "name": "stdout",
          "output_type": "stream",
          "text": [
            "582/582 [==============================] - ETA: 0s - loss: 0.4774 - accuracy: 0.9282"
          ]
        },
        {
          "name": "stderr",
          "output_type": "stream",
          "text": [
            "Corrupt JPEG data: 162 extraneous bytes before marker 0xd9\n",
            "Corrupt JPEG data: 252 extraneous bytes before marker 0xd9\n",
            "Corrupt JPEG data: 214 extraneous bytes before marker 0xd9\n"
          ]
        },
        {
          "name": "stdout",
          "output_type": "stream",
          "text": [
            "582/582 [==============================] - 1843s 3s/step - loss: 0.4774 - accuracy: 0.9282 - val_loss: 0.4501 - val_accuracy: 0.9239\n",
            "Epoch 5/10\n",
            "170/582 [=======>......................] - ETA: 37:39 - loss: 0.5015 - accuracy: 0.9403"
          ]
        },
        {
          "name": "stderr",
          "output_type": "stream",
          "text": [
            "Corrupt JPEG data: 99 extraneous bytes before marker 0xd9\n"
          ]
        },
        {
          "name": "stdout",
          "output_type": "stream",
          "text": [
            "202/582 [=========>....................] - ETA: 29:14 - loss: 0.5014 - accuracy: 0.9425"
          ]
        },
        {
          "name": "stderr",
          "output_type": "stream",
          "text": [
            "Warning: unknown JFIF revision number 0.00\n"
          ]
        },
        {
          "name": "stdout",
          "output_type": "stream",
          "text": [
            "212/582 [=========>....................] - ETA: 27:08 - loss: 0.4994 - accuracy: 0.9424"
          ]
        },
        {
          "name": "stderr",
          "output_type": "stream",
          "text": [
            "Corrupt JPEG data: 396 extraneous bytes before marker 0xd9\n"
          ]
        },
        {
          "name": "stdout",
          "output_type": "stream",
          "text": [
            "285/582 [=============>................] - ETA: 33:33 - loss: 0.4911 - accuracy: 0.9375"
          ]
        },
        {
          "name": "stderr",
          "output_type": "stream",
          "text": [
            "Corrupt JPEG data: 65 extraneous bytes before marker 0xd9\n"
          ]
        },
        {
          "name": "stdout",
          "output_type": "stream",
          "text": [
            "493/582 [========================>.....] - ETA: 8:50 - loss: 0.4964 - accuracy: 0.9350"
          ]
        },
        {
          "name": "stderr",
          "output_type": "stream",
          "text": [
            "Corrupt JPEG data: 2226 extraneous bytes before marker 0xd9\n"
          ]
        },
        {
          "name": "stdout",
          "output_type": "stream",
          "text": [
            "505/582 [=========================>....] - ETA: 7:28 - loss: 0.4966 - accuracy: 0.9351"
          ]
        },
        {
          "name": "stderr",
          "output_type": "stream",
          "text": [
            "Corrupt JPEG data: 128 extraneous bytes before marker 0xd9\n"
          ]
        },
        {
          "name": "stdout",
          "output_type": "stream",
          "text": [
            "515/582 [=========================>....] - ETA: 6:22 - loss: 0.4969 - accuracy: 0.9356"
          ]
        },
        {
          "name": "stderr",
          "output_type": "stream",
          "text": [
            "Corrupt JPEG data: 239 extraneous bytes before marker 0xd9\n"
          ]
        },
        {
          "name": "stdout",
          "output_type": "stream",
          "text": [
            "543/582 [==========================>...] - ETA: 4:36 - loss: 0.4956 - accuracy: 0.9359"
          ]
        },
        {
          "name": "stderr",
          "output_type": "stream",
          "text": [
            "Corrupt JPEG data: 1153 extraneous bytes before marker 0xd9\n"
          ]
        },
        {
          "name": "stdout",
          "output_type": "stream",
          "text": [
            "549/582 [===========================>..] - ETA: 3:51 - loss: 0.4957 - accuracy: 0.9362"
          ]
        },
        {
          "name": "stderr",
          "output_type": "stream",
          "text": [
            "Corrupt JPEG data: 228 extraneous bytes before marker 0xd9\n"
          ]
        },
        {
          "name": "stdout",
          "output_type": "stream",
          "text": [
            "581/582 [============================>.] - ETA: 6s - loss: 0.4916 - accuracy: 0.9344 "
          ]
        },
        {
          "name": "stderr",
          "output_type": "stream",
          "text": [
            "Corrupt JPEG data: 162 extraneous bytes before marker 0xd9\n",
            "Corrupt JPEG data: 252 extraneous bytes before marker 0xd9\n",
            "Corrupt JPEG data: 214 extraneous bytes before marker 0xd9\n"
          ]
        },
        {
          "name": "stdout",
          "output_type": "stream",
          "text": [
            "582/582 [==============================] - 3854s 7s/step - loss: 0.4915 - accuracy: 0.9343 - val_loss: 0.4518 - val_accuracy: 0.8646\n",
            "Epoch 6/10\n",
            "169/582 [=======>......................] - ETA: 40:33 - loss: 0.4782 - accuracy: 0.9344"
          ]
        },
        {
          "name": "stderr",
          "output_type": "stream",
          "text": [
            "Corrupt JPEG data: 99 extraneous bytes before marker 0xd9\n"
          ]
        },
        {
          "name": "stdout",
          "output_type": "stream",
          "text": [
            "201/582 [=========>....................] - ETA: 31:27 - loss: 0.4782 - accuracy: 0.9387"
          ]
        },
        {
          "name": "stderr",
          "output_type": "stream",
          "text": [
            "Warning: unknown JFIF revision number 0.00\n"
          ]
        },
        {
          "name": "stdout",
          "output_type": "stream",
          "text": [
            "213/582 [=========>....................] - ETA: 28:45 - loss: 0.4755 - accuracy: 0.9396"
          ]
        },
        {
          "name": "stderr",
          "output_type": "stream",
          "text": [
            "Corrupt JPEG data: 396 extraneous bytes before marker 0xd9\n"
          ]
        },
        {
          "name": "stdout",
          "output_type": "stream",
          "text": [
            "285/582 [=============>................] - ETA: 17:19 - loss: 0.4650 - accuracy: 0.9416"
          ]
        },
        {
          "name": "stderr",
          "output_type": "stream",
          "text": [
            "Corrupt JPEG data: 65 extraneous bytes before marker 0xd9\n"
          ]
        },
        {
          "name": "stdout",
          "output_type": "stream",
          "text": [
            "493/582 [========================>.....] - ETA: 5:49 - loss: 0.4601 - accuracy: 0.9384"
          ]
        },
        {
          "name": "stderr",
          "output_type": "stream",
          "text": [
            "Corrupt JPEG data: 2226 extraneous bytes before marker 0xd9\n"
          ]
        },
        {
          "name": "stdout",
          "output_type": "stream",
          "text": [
            "505/582 [=========================>....] - ETA: 4:55 - loss: 0.4611 - accuracy: 0.9385"
          ]
        },
        {
          "name": "stderr",
          "output_type": "stream",
          "text": [
            "Corrupt JPEG data: 128 extraneous bytes before marker 0xd9\n"
          ]
        },
        {
          "name": "stdout",
          "output_type": "stream",
          "text": [
            "515/582 [=========================>....] - ETA: 4:11 - loss: 0.4615 - accuracy: 0.9387"
          ]
        },
        {
          "name": "stderr",
          "output_type": "stream",
          "text": [
            "Corrupt JPEG data: 239 extraneous bytes before marker 0xd9\n"
          ]
        },
        {
          "name": "stdout",
          "output_type": "stream",
          "text": [
            "543/582 [==========================>...] - ETA: 2:19 - loss: 0.4639 - accuracy: 0.9401"
          ]
        },
        {
          "name": "stderr",
          "output_type": "stream",
          "text": [
            "Corrupt JPEG data: 1153 extraneous bytes before marker 0xd9\n"
          ]
        },
        {
          "name": "stdout",
          "output_type": "stream",
          "text": [
            "549/582 [===========================>..] - ETA: 1:56 - loss: 0.4642 - accuracy: 0.9403"
          ]
        },
        {
          "name": "stderr",
          "output_type": "stream",
          "text": [
            "Corrupt JPEG data: 228 extraneous bytes before marker 0xd9\n"
          ]
        },
        {
          "name": "stdout",
          "output_type": "stream",
          "text": [
            "582/582 [==============================] - ETA: 0s - loss: 0.4643 - accuracy: 0.9414"
          ]
        },
        {
          "name": "stderr",
          "output_type": "stream",
          "text": [
            "Corrupt JPEG data: 162 extraneous bytes before marker 0xd9\n",
            "Corrupt JPEG data: 252 extraneous bytes before marker 0xd9\n",
            "Corrupt JPEG data: 214 extraneous bytes before marker 0xd9\n"
          ]
        },
        {
          "name": "stdout",
          "output_type": "stream",
          "text": [
            "582/582 [==============================] - 2849s 5s/step - loss: 0.4643 - accuracy: 0.9414 - val_loss: 0.4404 - val_accuracy: 0.9536\n",
            "Epoch 7/10\n",
            "170/582 [=======>......................] - ETA: 38:02 - loss: 0.4343 - accuracy: 0.9461"
          ]
        },
        {
          "name": "stderr",
          "output_type": "stream",
          "text": [
            "Corrupt JPEG data: 99 extraneous bytes before marker 0xd9\n"
          ]
        },
        {
          "name": "stdout",
          "output_type": "stream",
          "text": [
            "202/582 [=========>....................] - ETA: 1:01:21 - loss: 0.4387 - accuracy: 0.9491"
          ]
        },
        {
          "name": "stderr",
          "output_type": "stream",
          "text": [
            "Warning: unknown JFIF revision number 0.00\n"
          ]
        },
        {
          "name": "stdout",
          "output_type": "stream",
          "text": [
            "212/582 [=========>....................] - ETA: 56:54 - loss: 0.4411 - accuracy: 0.9497"
          ]
        },
        {
          "name": "stderr",
          "output_type": "stream",
          "text": [
            "Corrupt JPEG data: 396 extraneous bytes before marker 0xd9\n"
          ]
        },
        {
          "name": "stdout",
          "output_type": "stream",
          "text": [
            "284/582 [=============>................] - ETA: 34:13 - loss: 0.4376 - accuracy: 0.9498"
          ]
        },
        {
          "name": "stderr",
          "output_type": "stream",
          "text": [
            "Corrupt JPEG data: 65 extraneous bytes before marker 0xd9\n"
          ]
        },
        {
          "name": "stdout",
          "output_type": "stream",
          "text": [
            "492/582 [========================>.....] - ETA: 8:44 - loss: 0.4360 - accuracy: 0.9458"
          ]
        },
        {
          "name": "stderr",
          "output_type": "stream",
          "text": [
            "Corrupt JPEG data: 2226 extraneous bytes before marker 0xd9\n"
          ]
        },
        {
          "name": "stdout",
          "output_type": "stream",
          "text": [
            "506/582 [=========================>....] - ETA: 7:10 - loss: 0.4353 - accuracy: 0.9447"
          ]
        },
        {
          "name": "stderr",
          "output_type": "stream",
          "text": [
            "Corrupt JPEG data: 128 extraneous bytes before marker 0xd9\n"
          ]
        },
        {
          "name": "stdout",
          "output_type": "stream",
          "text": [
            "514/582 [=========================>....] - ETA: 6:19 - loss: 0.4341 - accuracy: 0.9438"
          ]
        },
        {
          "name": "stderr",
          "output_type": "stream",
          "text": [
            "Corrupt JPEG data: 239 extraneous bytes before marker 0xd9\n"
          ]
        },
        {
          "name": "stdout",
          "output_type": "stream",
          "text": [
            "543/582 [==========================>...] - ETA: 3:42 - loss: 0.4340 - accuracy: 0.9438"
          ]
        },
        {
          "name": "stderr",
          "output_type": "stream",
          "text": [
            "Corrupt JPEG data: 1153 extraneous bytes before marker 0xd9\n"
          ]
        },
        {
          "name": "stdout",
          "output_type": "stream",
          "text": [
            "549/582 [===========================>..] - ETA: 3:06 - loss: 0.4336 - accuracy: 0.9435"
          ]
        },
        {
          "name": "stderr",
          "output_type": "stream",
          "text": [
            "Corrupt JPEG data: 228 extraneous bytes before marker 0xd9\n"
          ]
        },
        {
          "name": "stdout",
          "output_type": "stream",
          "text": [
            "582/582 [==============================] - ETA: 0s - loss: 0.4318 - accuracy: 0.9432"
          ]
        },
        {
          "name": "stderr",
          "output_type": "stream",
          "text": [
            "Corrupt JPEG data: 162 extraneous bytes before marker 0xd9\n",
            "Corrupt JPEG data: 252 extraneous bytes before marker 0xd9\n",
            "Corrupt JPEG data: 214 extraneous bytes before marker 0xd9\n"
          ]
        },
        {
          "name": "stdout",
          "output_type": "stream",
          "text": [
            "582/582 [==============================] - 3097s 5s/step - loss: 0.4318 - accuracy: 0.9432 - val_loss: 0.4336 - val_accuracy: 0.9351\n",
            "Epoch 8/10\n",
            "169/582 [=======>......................] - ETA: 20s - loss: 0.4225 - accuracy: 0.9429"
          ]
        },
        {
          "name": "stderr",
          "output_type": "stream",
          "text": [
            "Corrupt JPEG data: 99 extraneous bytes before marker 0xd9\n"
          ]
        },
        {
          "name": "stdout",
          "output_type": "stream",
          "text": [
            "201/582 [=========>....................] - ETA: 18s - loss: 0.4252 - accuracy: 0.9468"
          ]
        },
        {
          "name": "stderr",
          "output_type": "stream",
          "text": [
            "Warning: unknown JFIF revision number 0.00\n"
          ]
        },
        {
          "name": "stdout",
          "output_type": "stream",
          "text": [
            "213/582 [=========>....................] - ETA: 17s - loss: 0.4259 - accuracy: 0.9475"
          ]
        },
        {
          "name": "stderr",
          "output_type": "stream",
          "text": [
            "Corrupt JPEG data: 396 extraneous bytes before marker 0xd9\n"
          ]
        },
        {
          "name": "stdout",
          "output_type": "stream",
          "text": [
            "285/582 [=============>................] - ETA: 13s - loss: 0.4226 - accuracy: 0.9435"
          ]
        },
        {
          "name": "stderr",
          "output_type": "stream",
          "text": [
            "Corrupt JPEG data: 65 extraneous bytes before marker 0xd9\n"
          ]
        },
        {
          "name": "stdout",
          "output_type": "stream",
          "text": [
            "493/582 [========================>.....] - ETA: 3s - loss: 0.4263 - accuracy: 0.9468"
          ]
        },
        {
          "name": "stderr",
          "output_type": "stream",
          "text": [
            "Corrupt JPEG data: 2226 extraneous bytes before marker 0xd9\n"
          ]
        },
        {
          "name": "stdout",
          "output_type": "stream",
          "text": [
            "505/582 [=========================>....] - ETA: 3s - loss: 0.4280 - accuracy: 0.9465"
          ]
        },
        {
          "name": "stderr",
          "output_type": "stream",
          "text": [
            "Corrupt JPEG data: 128 extraneous bytes before marker 0xd9\n"
          ]
        },
        {
          "name": "stdout",
          "output_type": "stream",
          "text": [
            "515/582 [=========================>....] - ETA: 2s - loss: 0.4282 - accuracy: 0.9468"
          ]
        },
        {
          "name": "stderr",
          "output_type": "stream",
          "text": [
            "Corrupt JPEG data: 239 extraneous bytes before marker 0xd9\n"
          ]
        },
        {
          "name": "stdout",
          "output_type": "stream",
          "text": [
            "543/582 [==========================>...] - ETA: 1s - loss: 0.4285 - accuracy: 0.9476"
          ]
        },
        {
          "name": "stderr",
          "output_type": "stream",
          "text": [
            "Corrupt JPEG data: 1153 extraneous bytes before marker 0xd9\n"
          ]
        },
        {
          "name": "stdout",
          "output_type": "stream",
          "text": [
            "549/582 [===========================>..] - ETA: 1s - loss: 0.4287 - accuracy: 0.9476"
          ]
        },
        {
          "name": "stderr",
          "output_type": "stream",
          "text": [
            "Corrupt JPEG data: 228 extraneous bytes before marker 0xd9\n"
          ]
        },
        {
          "name": "stdout",
          "output_type": "stream",
          "text": [
            "582/582 [==============================] - ETA: 0s - loss: 0.4270 - accuracy: 0.9473"
          ]
        },
        {
          "name": "stderr",
          "output_type": "stream",
          "text": [
            "Corrupt JPEG data: 162 extraneous bytes before marker 0xd9\n",
            "Corrupt JPEG data: 252 extraneous bytes before marker 0xd9\n",
            "Corrupt JPEG data: 214 extraneous bytes before marker 0xd9\n"
          ]
        },
        {
          "name": "stdout",
          "output_type": "stream",
          "text": [
            "582/582 [==============================] - 932s 2s/step - loss: 0.4270 - accuracy: 0.9473 - val_loss: 0.4503 - val_accuracy: 0.9329\n",
            "Epoch 9/10\n",
            "169/582 [=======>......................] - ETA: 15s - loss: 0.4349 - accuracy: 0.9580"
          ]
        },
        {
          "name": "stderr",
          "output_type": "stream",
          "text": [
            "Corrupt JPEG data: 99 extraneous bytes before marker 0xd9\n"
          ]
        },
        {
          "name": "stdout",
          "output_type": "stream",
          "text": [
            "201/582 [=========>....................] - ETA: 14s - loss: 0.4398 - accuracy: 0.9591"
          ]
        },
        {
          "name": "stderr",
          "output_type": "stream",
          "text": [
            "Warning: unknown JFIF revision number 0.00\n"
          ]
        },
        {
          "name": "stdout",
          "output_type": "stream",
          "text": [
            "213/582 [=========>....................] - ETA: 14s - loss: 0.4398 - accuracy: 0.9595"
          ]
        },
        {
          "name": "stderr",
          "output_type": "stream",
          "text": [
            "Corrupt JPEG data: 396 extraneous bytes before marker 0xd9\n"
          ]
        },
        {
          "name": "stdout",
          "output_type": "stream",
          "text": [
            "285/582 [=============>................] - ETA: 11s - loss: 0.4372 - accuracy: 0.9582"
          ]
        },
        {
          "name": "stderr",
          "output_type": "stream",
          "text": [
            "Corrupt JPEG data: 65 extraneous bytes before marker 0xd9\n"
          ]
        },
        {
          "name": "stdout",
          "output_type": "stream",
          "text": [
            "493/582 [========================>.....] - ETA: 3s - loss: 0.4359 - accuracy: 0.9585"
          ]
        },
        {
          "name": "stderr",
          "output_type": "stream",
          "text": [
            "Corrupt JPEG data: 2226 extraneous bytes before marker 0xd9\n"
          ]
        },
        {
          "name": "stdout",
          "output_type": "stream",
          "text": [
            "505/582 [=========================>....] - ETA: 2s - loss: 0.4361 - accuracy: 0.9584"
          ]
        },
        {
          "name": "stderr",
          "output_type": "stream",
          "text": [
            "Corrupt JPEG data: 128 extraneous bytes before marker 0xd9\n"
          ]
        },
        {
          "name": "stdout",
          "output_type": "stream",
          "text": [
            "515/582 [=========================>....] - ETA: 2s - loss: 0.4351 - accuracy: 0.9581"
          ]
        },
        {
          "name": "stderr",
          "output_type": "stream",
          "text": [
            "Corrupt JPEG data: 239 extraneous bytes before marker 0xd9\n"
          ]
        },
        {
          "name": "stdout",
          "output_type": "stream",
          "text": [
            "543/582 [==========================>...] - ETA: 1s - loss: 0.4363 - accuracy: 0.9583"
          ]
        },
        {
          "name": "stderr",
          "output_type": "stream",
          "text": [
            "Corrupt JPEG data: 1153 extraneous bytes before marker 0xd9\n"
          ]
        },
        {
          "name": "stdout",
          "output_type": "stream",
          "text": [
            "549/582 [===========================>..] - ETA: 1s - loss: 0.4365 - accuracy: 0.9582"
          ]
        },
        {
          "name": "stderr",
          "output_type": "stream",
          "text": [
            "Corrupt JPEG data: 228 extraneous bytes before marker 0xd9\n"
          ]
        },
        {
          "name": "stdout",
          "output_type": "stream",
          "text": [
            "581/582 [============================>.] - ETA: 0s - loss: 0.4347 - accuracy: 0.9582"
          ]
        },
        {
          "name": "stderr",
          "output_type": "stream",
          "text": [
            "Corrupt JPEG data: 162 extraneous bytes before marker 0xd9\n",
            "Corrupt JPEG data: 252 extraneous bytes before marker 0xd9\n",
            "Corrupt JPEG data: 214 extraneous bytes before marker 0xd9\n"
          ]
        },
        {
          "name": "stdout",
          "output_type": "stream",
          "text": [
            "582/582 [==============================] - 25s 43ms/step - loss: 0.4346 - accuracy: 0.9582 - val_loss: 0.4410 - val_accuracy: 0.9484\n",
            "Epoch 10/10\n",
            "169/582 [=======>......................] - ETA: 15s - loss: 0.4352 - accuracy: 0.9610"
          ]
        },
        {
          "name": "stderr",
          "output_type": "stream",
          "text": [
            "Corrupt JPEG data: 99 extraneous bytes before marker 0xd9\n"
          ]
        },
        {
          "name": "stdout",
          "output_type": "stream",
          "text": [
            "201/582 [=========>....................] - ETA: 14s - loss: 0.4334 - accuracy: 0.9619"
          ]
        },
        {
          "name": "stderr",
          "output_type": "stream",
          "text": [
            "Warning: unknown JFIF revision number 0.00\n"
          ]
        },
        {
          "name": "stdout",
          "output_type": "stream",
          "text": [
            "213/582 [=========>....................] - ETA: 13s - loss: 0.4343 - accuracy: 0.9621"
          ]
        },
        {
          "name": "stderr",
          "output_type": "stream",
          "text": [
            "Corrupt JPEG data: 396 extraneous bytes before marker 0xd9\n"
          ]
        },
        {
          "name": "stdout",
          "output_type": "stream",
          "text": [
            "285/582 [=============>................] - ETA: 11s - loss: 0.4322 - accuracy: 0.9605"
          ]
        },
        {
          "name": "stderr",
          "output_type": "stream",
          "text": [
            "Corrupt JPEG data: 65 extraneous bytes before marker 0xd9\n"
          ]
        },
        {
          "name": "stdout",
          "output_type": "stream",
          "text": [
            "493/582 [========================>.....] - ETA: 3s - loss: 0.4353 - accuracy: 0.9594"
          ]
        },
        {
          "name": "stderr",
          "output_type": "stream",
          "text": [
            "Corrupt JPEG data: 2226 extraneous bytes before marker 0xd9\n"
          ]
        },
        {
          "name": "stdout",
          "output_type": "stream",
          "text": [
            "505/582 [=========================>....] - ETA: 2s - loss: 0.4350 - accuracy: 0.9591"
          ]
        },
        {
          "name": "stderr",
          "output_type": "stream",
          "text": [
            "Corrupt JPEG data: 128 extraneous bytes before marker 0xd9\n"
          ]
        },
        {
          "name": "stdout",
          "output_type": "stream",
          "text": [
            "515/582 [=========================>....] - ETA: 2s - loss: 0.4351 - accuracy: 0.9591"
          ]
        },
        {
          "name": "stderr",
          "output_type": "stream",
          "text": [
            "Corrupt JPEG data: 239 extraneous bytes before marker 0xd9\n"
          ]
        },
        {
          "name": "stdout",
          "output_type": "stream",
          "text": [
            "543/582 [==========================>...] - ETA: 1s - loss: 0.4350 - accuracy: 0.9594"
          ]
        },
        {
          "name": "stderr",
          "output_type": "stream",
          "text": [
            "Corrupt JPEG data: 1153 extraneous bytes before marker 0xd9\n"
          ]
        },
        {
          "name": "stdout",
          "output_type": "stream",
          "text": [
            "549/582 [===========================>..] - ETA: 1s - loss: 0.4347 - accuracy: 0.9596"
          ]
        },
        {
          "name": "stderr",
          "output_type": "stream",
          "text": [
            "Corrupt JPEG data: 228 extraneous bytes before marker 0xd9\n"
          ]
        },
        {
          "name": "stdout",
          "output_type": "stream",
          "text": [
            "581/582 [============================>.] - ETA: 0s - loss: 0.4344 - accuracy: 0.9600"
          ]
        },
        {
          "name": "stderr",
          "output_type": "stream",
          "text": [
            "Corrupt JPEG data: 162 extraneous bytes before marker 0xd9\n",
            "Corrupt JPEG data: 252 extraneous bytes before marker 0xd9\n",
            "Corrupt JPEG data: 214 extraneous bytes before marker 0xd9\n"
          ]
        },
        {
          "name": "stdout",
          "output_type": "stream",
          "text": [
            "582/582 [==============================] - 25s 42ms/step - loss: 0.4342 - accuracy: 0.9601 - val_loss: 0.4416 - val_accuracy: 0.9553\n"
          ]
        }
      ],
      "source": [
        "TRAINING_EPOCHS = 10\n",
        "# tf.config.set_visible_devices(physical_devices[0], 'CPU')\n",
        "with tf.device('device:GPU:0'):\n",
        "    history = model.fit(training_batches,\n",
        "                        epochs=TRAINING_EPOCHS,\n",
        "                        validation_data=validation_batches)"
      ]
    },
    {
      "cell_type": "markdown",
      "metadata": {
        "id": "09yMD-z7vLMZ"
      },
      "source": [
        "Use the `predict_image` function to test your model."
      ]
    },
    {
      "cell_type": "code",
      "execution_count": null,
      "metadata": {},
      "outputs": [],
      "source": [
        "dog1='https://i.ibb.co/Y2s0WH6/test-dog.jpg'\n",
        "dog2='https://activerain-store.s3.amazonaws.com/image_store/uploads/1/5/9/3/8/ar128364712183951.jpg'\n",
        "dog3='https://img.dog-learn.com/dog-breeds/bernese-mountain-dog/images/bernese-mountain-dog-r.jpg'\n",
        "dog4='http://www.german-shepherd-lore.com/images/xfluffy-the-wardog.jpg.pagespeed.ic.aBrl6wfDT4.jpg'\n",
        "cat1= 'https://mytabcat.com/wp-content/uploads/2015/08/Lifestyle-1-180x180.jpg'\n",
        "cat2= 'https://mytabcat.com/wp-content/uploads/2015/08/Lifestyle-2-180x180.jpg'\n",
        "cat3= 'https://mytabcat.com/wp-content/uploads/2015/08/Lifestyle-4-180x180.jpg'\n",
        "cat4= 'https://mytabcat.com/wp-content/uploads/2015/08/Lifestyle-5-180x180.jpg'\n",
        "elephant= '/Users/michaelmcdowell/Code/SimpleClassifier/elephant.jpg'\n",
        "\n",
        "def combine(b, c):\n",
        "    def a(x):\n",
        "        return c(b(x))\n",
        "    return a\n",
        "\n",
        "predict_and_show = combine(predict_image, show_image)"
      ]
    },
    {
      "cell_type": "code",
      "execution_count": null,
      "metadata": {
        "id": "gebsfn75wKRg"
      },
      "outputs": [],
      "source": [
        "predict_and_show(dog1)"
      ]
    },
    {
      "cell_type": "markdown",
      "metadata": {},
      "source": [
        "Test images from the original Cat Vs Dogs dataset."
      ]
    },
    {
      "cell_type": "code",
      "execution_count": null,
      "metadata": {},
      "outputs": [],
      "source": [
        "import random\n",
        "def test_images(location):\n",
        "    LOOP = 10 # images to test\n",
        "\n",
        "    for n in range(1, LOOP):\n",
        "        prefx = random.randrange(1, 10000)\n",
        "        numStr = str(prefx)\n",
        "        fName = numStr + '.jpg'\n",
        "        target = location + fName\n",
        "        print(\"Target: \"+target)\n",
        "        predict_image(target)\n",
        "\n",
        "test_images('/Users/michaelmcdowell/Code/data/kagglecatsanddogs/PetImages/Cat/')"
      ]
    }
  ],
  "metadata": {
    "accelerator": "GPU",
    "colab": {
      "collapsed_sections": [],
      "name": "retrain_existing_model_starter",
      "provenance": []
    },
    "kernelspec": {
      "display_name": "Python 3",
      "name": "python3"
    },
    "language_info": {
      "codemirror_mode": {
        "name": "ipython",
        "version": 3
      },
      "file_extension": ".py",
      "mimetype": "text/x-python",
      "name": "python",
      "nbconvert_exporter": "python",
      "pygments_lexer": "ipython3",
      "version": "3.9.10"
    }
  },
  "nbformat": 4,
  "nbformat_minor": 0
}

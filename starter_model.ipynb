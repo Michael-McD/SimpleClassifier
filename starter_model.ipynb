{
  "cells": [
    {
      "cell_type": "markdown",
      "metadata": {
        "id": "i3KsphWPVc6b"
      },
      "source": [
        "Import some library code\n",
        "\n",
        "\n",
        "*   `tensorflow` is the machine learning library we're using\n",
        "*   `os` helps us interact with files and folders\n",
        "*   `matplotlib` is for displaying charts and images\n",
        "*   `numpy` helps us work with data to prepare it for `tensorflow` and review it afterwards\n"
      ]
    },
    {
      "cell_type": "code",
      "execution_count": 6,
      "metadata": {
        "id": "0m4C75UZUYHZ"
      },
      "outputs": [],
      "source": [
        "import tensorflow as tf\n",
        "import os\n",
        "import matplotlib.pyplot as plt\n",
        "import numpy as np"
      ]
    },
    {
      "cell_type": "markdown",
      "metadata": {
        "id": "3DbrXhkzVWgj"
      },
      "source": [
        "This code gets the data you will use to train your model: pictures of cats and dogs.\n"
      ]
    },
    {
      "cell_type": "code",
      "execution_count": 7,
      "metadata": {
        "id": "OMFIwvTjUpeV"
      },
      "outputs": [],
      "source": [
        "import tensorflow_datasets as tfds\n",
        "\n",
        "(raw_training, raw_validation, raw_testing), metadata = tfds.load( name='cats_vs_dogs', split=[\n",
        "    tfds.Split.TRAIN.subsplit(tfds.percent[:80]),\n",
        "    tfds.Split.TRAIN.subsplit(tfds.percent[80:90]),\n",
        "    tfds.Split.TRAIN.subsplit(tfds.percent[90:])\n",
        "    ], with_info=True, as_supervised=True)"
      ]
    },
    {
      "cell_type": "markdown",
      "metadata": {
        "id": "rQ2EH08Tx6Ev"
      },
      "source": [
        "\n",
        "This function takes an image and a label as inputs. The image is then converted into three sets of numbers representing the colours red, green, and blue for every pixel in the image. The combination of these colours can form any other colour. The red, green, and blue values are then converted from numbers between 0 and 255, to numbers between -1 and 1, as the model has been trained to work with values in that range. Finally, the image is resized based on the `IMAGE_SIZE` constant, to match the size the model was previously trained on. In this case, it's a 160 by 160 pixel square.\n"
      ]
    },
    {
      "cell_type": "code",
      "execution_count": 8,
      "metadata": {
        "id": "mQ2XEMTtaDPG"
      },
      "outputs": [],
      "source": [
        "IMAGE_SIZE = 160\n",
        "\n",
        "training_data = None\n",
        "\n",
        "# Resize an image, and convert it into a form that tensorflow can read more easily \n",
        "def prep_image(image, label):\n",
        "  image = tf.cast(image, tf.float32)\n",
        "  image = (image/127.5) - 1\n",
        "  image = tf.image.resize(image, (IMAGE_SIZE, IMAGE_SIZE))\n",
        "  return image, label\n",
        "\n",
        "training_data = raw_training.map(prep_image)\n",
        "validation_data = raw_validation.map(prep_image)\n",
        "testing_data = raw_testing.map(prep_image)"
      ]
    },
    {
      "cell_type": "markdown",
      "metadata": {
        "id": "pFqlVlN6CYNo"
      },
      "source": [
        "These are versions of the functions from the previous project, so you can use them to test your model."
      ]
    },
    {
      "cell_type": "code",
      "execution_count": 9,
      "metadata": {
        "id": "HwfYVi6GCVtd"
      },
      "outputs": [],
      "source": [
        "def get_image_from_url(image_url):\n",
        "  # If the temporary test_image.jpg file already exists, \n",
        "  # delete it so a new one can be made.\n",
        "  if os.path.exists('/root/.keras/datasets/test_image.jpg'):\n",
        "    os.remove('/root/.keras/datasets/test_image.jpg')\n",
        "\n",
        "  image_path = tf.keras.utils.get_file('test_image.jpg', origin=image_url)\n",
        "  return image_path\n",
        "\n",
        "def print_predictions(predictions):\n",
        "    for (prediction, number) in zip(predictions[0], range(1, len(predictions[0])+1)):\n",
        "      print('{}. {} {:.2f}%'.format(number, prediction[1], prediction[2]*100))\n",
        "\n",
        "def predict_with_old_model(image_url):\n",
        "  image_path = get_image_from_url(image_url)\n",
        "  \n",
        "  image = tf.keras.preprocessing.image.load_img(image_path, target_size=(IMAGE_SIZE, IMAGE_SIZE))\n",
        "\n",
        "  plt.figure()\n",
        "  plt.imshow(image)\n",
        "\n",
        "  image = tf.keras.preprocessing.image.img_to_array(image)\n",
        "  image = np.expand_dims(image, axis=0)\n",
        "  \n",
        "  prediction_result = original_model.predict(image, batch_size=1)\n",
        "  predictions = tf.keras.applications.imagenet_utils.decode_predictions(prediction_result, top=15)\n",
        "\n",
        "  print_predictions(predictions)\n",
        "\n",
        "def predict_image(image_url):\n",
        "  image_path = get_image_from_url(image_url)\n",
        "  \n",
        "  image = tf.keras.preprocessing.image.load_img(image_path, target_size=(IMAGE_SIZE, IMAGE_SIZE))\n",
        "\n",
        "  plt.figure()\n",
        "  plt.imshow(image)\n",
        "\n",
        "  image = tf.keras.preprocessing.image.img_to_array(image)\n",
        "  image = np.expand_dims(image, axis=0)\n",
        "  \n",
        "  prediction_result = model.predict(image, batch_size=1)\n",
        "  labels = metadata.features['label'].names\n",
        "  print(labels[prediction_result.argmin()])"
      ]
    },
    {
      "cell_type": "markdown",
      "metadata": {
        "id": "E-wCiqLKvJVF"
      },
      "source": [
        "Import and test the MobileNetV2 model that you will retrain. (Issues **str not in decode fixed** _conda install 'h5py==2.10.0'_)"
      ]
    },
    {
      "cell_type": "code",
      "execution_count": 10,
      "metadata": {
        "id": "nXn-yycIZ_Vf"
      },
      "outputs": [
        {
          "name": "stdout",
          "output_type": "stream",
          "text": [
            "Downloading data from https://github.com/JonathanCMitchell/mobilenet_v2_keras/releases/download/v1.1/mobilenet_v2_weights_tf_dim_ordering_tf_kernels_1.0_160_no_top.h5\n",
            "9412608/9406464 [==============================] - 2s 0us/step\n"
          ]
        }
      ],
      "source": [
        "IMAGE_SHAPE = (IMAGE_SIZE, IMAGE_SIZE, 3)\n",
        "original_model = tf.keras.applications.MobileNetV2(input_shape=IMAGE_SHAPE, include_top=False)\n",
        "original_model.trainable = False\n",
        "\n",
        "# predict_with_old_model('https://dojo.soy/predict-dog')  ## For testing only"
      ]
    },
    {
      "cell_type": "markdown",
      "metadata": {
        "id": "stKhRFDlvKE2"
      },
      "source": [
        "In the cell below, split your images into training, validation, and testing data."
      ]
    },
    {
      "cell_type": "code",
      "execution_count": 11,
      "metadata": {
        "id": "7zI-5FKrdFSA"
      },
      "outputs": [],
      "source": [
        "BATCH_SIZE = 32\n",
        "SHUFFLE_BUFFER_SIZE = 1000\n",
        "\n",
        "training_batches = training_data.shuffle(SHUFFLE_BUFFER_SIZE).batch(BATCH_SIZE)\n",
        "validation_batches = validation_data.shuffle(SHUFFLE_BUFFER_SIZE).batch(BATCH_SIZE)\n",
        "testing_batches = testing_data.shuffle(SHUFFLE_BUFFER_SIZE).batch(BATCH_SIZE)"
      ]
    },
    {
      "cell_type": "markdown",
      "metadata": {
        "id": "AAXeCK0xvKcI"
      },
      "source": [
        "Add the new layers to the model, to allow it to be retrained."
      ]
    },
    {
      "cell_type": "code",
      "execution_count": 12,
      "metadata": {
        "id": "IEdPUXxbpmHw"
      },
      "outputs": [
        {
          "name": "stdout",
          "output_type": "stream",
          "text": [
            "Model: \"sequential\"\n",
            "_________________________________________________________________\n",
            "Layer (type)                 Output Shape              Param #   \n",
            "=================================================================\n",
            "mobilenetv2_1.00_160 (Model) (None, 5, 5, 1280)        2257984   \n",
            "_________________________________________________________________\n",
            "global_average_pooling2d_1 ( (None, 1280)              0         \n",
            "_________________________________________________________________\n",
            "dense (Dense)                (None, 2)                 2562      \n",
            "=================================================================\n",
            "Total params: 2,260,546\n",
            "Trainable params: 2,562\n",
            "Non-trainable params: 2,257,984\n",
            "_________________________________________________________________\n"
          ]
        }
      ],
      "source": [
        "global_average_layer = tf.keras.layers.GlobalAveragePooling2D()\n",
        "prediction_layer = tf.keras.layers.Dense(2)\n",
        "\n",
        "model = tf.keras.Sequential([\n",
        "  original_model,\n",
        "  global_average_layer,\n",
        "  prediction_layer\n",
        "])\n",
        "\n",
        "BASE_LEARNING_RATE = 0.0001\n",
        "model.compile(optimizer=tf.keras.optimizers.RMSprop(lr=BASE_LEARNING_RATE),\n",
        "              loss=tf.keras.losses.SparseCategoricalCrossentropy(),\n",
        "              metrics=['accuracy'])\n",
        "\n",
        "model.summary()"
      ]
    },
    {
      "cell_type": "markdown",
      "metadata": {
        "id": "tJGfwMeCvK19"
      },
      "source": [
        "Set up your training epochs and train the new layers of the model."
      ]
    },
    {
      "cell_type": "code",
      "execution_count": null,
      "metadata": {
        "id": "_yIVNQ0xu3FA"
      },
      "outputs": [],
      "source": []
    },
    {
      "cell_type": "markdown",
      "metadata": {
        "id": "09yMD-z7vLMZ"
      },
      "source": [
        "Use the `predict_image` function to test your model."
      ]
    },
    {
      "cell_type": "code",
      "execution_count": null,
      "metadata": {
        "id": "gebsfn75wKRg"
      },
      "outputs": [],
      "source": []
    }
  ],
  "metadata": {
    "accelerator": "GPU",
    "colab": {
      "collapsed_sections": [],
      "name": "retrain_existing_model_starter",
      "provenance": []
    },
    "kernelspec": {
      "display_name": "Python 3",
      "name": "python3"
    },
    "language_info": {
      "codemirror_mode": {
        "name": "ipython",
        "version": 3
      },
      "file_extension": ".py",
      "mimetype": "text/x-python",
      "name": "python",
      "nbconvert_exporter": "python",
      "pygments_lexer": "ipython3",
      "version": "3.7.11"
    }
  },
  "nbformat": 4,
  "nbformat_minor": 0
}
